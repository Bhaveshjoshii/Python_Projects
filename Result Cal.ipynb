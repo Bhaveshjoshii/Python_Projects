{
  "nbformat": 4,
  "nbformat_minor": 0,
  "metadata": {
    "colab": {
      "provenance": []
    },
    "kernelspec": {
      "name": "python3",
      "display_name": "Python 3"
    },
    "language_info": {
      "name": "python"
    }
  },
  "cells": [
    {
      "cell_type": "code",
      "execution_count": 9,
      "metadata": {
        "colab": {
          "base_uri": "https://localhost:8080/"
        },
        "id": "A7b484jPwd_C",
        "outputId": "e9551fe2-6672-4b1c-acd5-5f0cc52b4360"
      },
      "outputs": [
        {
          "output_type": "stream",
          "name": "stdout",
          "text": [
            "Enter Maths Marks: 7\n",
            "Enter Phy Marks: 87\n",
            "Enter Chem Marks: 76\n",
            "Enter PE Marks: 65\n",
            "Enter Bio Marks: 33\n",
            "Enter English Marks: 43\n",
            "congo you secure:  51.83333333333333 %\n",
            "You Got C Grade \n"
          ]
        }
      ],
      "source": [
        "m= float(input(\"Enter Maths Marks: \"))\n",
        "p= float(input(\"Enter Phy Marks: \"))\n",
        "c= float(input(\"Enter Chem Marks: \"))\n",
        "pe= float(input(\"Enter PE Marks: \"))\n",
        "Bio= float(input(\"Enter Bio Marks: \"))\n",
        "English = float(input(\"Enter English Marks: \"))\n",
        "Percentage_Calculation = ((m+p+c+pe+Bio+English)/600)*100\n",
        "\n",
        "\n",
        "if Percentage_Calculation > 90:\n",
        "  print(\"congo you secure: \",Percentage_Calculation,\"%\")\n",
        "  print(\"You Got A Grade \")\n",
        "\n",
        "elif  Percentage_Calculation == 90 and Percentage_Calculation >75:\n",
        "  print(\"congo you secure: \",Percentage_Calculation,\"%\")\n",
        "  print(\"You Got B Grade \")\n",
        "\n",
        "elif  Percentage_Calculation <= 75 and Percentage_Calculation >50:\n",
        "  print(\"congo you secure: \",Percentage_Calculation,\"%\")\n",
        "  print(\"You Got C Grade \")\n",
        "\n",
        "elif  Percentage_Calculation <=50 and Percentage_Calculation >35:\n",
        "  print(\"congo you secure: \",Percentage_Calculation,\"%\")\n",
        "  print(\"You Got D Grade \")\n",
        "\n",
        "else :\n",
        "  print(\"fail\",Percentage_Calculation,\"%\")"
      ]
    },
    {
      "cell_type": "code",
      "source": [],
      "metadata": {
        "id": "TrLs8CAawfEO"
      },
      "execution_count": null,
      "outputs": []
    },
    {
      "cell_type": "code",
      "source": [],
      "metadata": {
        "id": "YjivGRbDwfHS"
      },
      "execution_count": null,
      "outputs": []
    },
    {
      "cell_type": "code",
      "source": [],
      "metadata": {
        "id": "zIZu8boIwfKZ"
      },
      "execution_count": null,
      "outputs": []
    },
    {
      "cell_type": "code",
      "source": [],
      "metadata": {
        "id": "TR3EEvfgwfN0"
      },
      "execution_count": null,
      "outputs": []
    },
    {
      "cell_type": "code",
      "source": [],
      "metadata": {
        "id": "VgdhKBOvwfRR"
      },
      "execution_count": null,
      "outputs": []
    },
    {
      "cell_type": "code",
      "source": [],
      "metadata": {
        "id": "FbY-x5ZrwfUi"
      },
      "execution_count": null,
      "outputs": []
    },
    {
      "cell_type": "code",
      "source": [],
      "metadata": {
        "id": "9uiWa9S5wfYK"
      },
      "execution_count": null,
      "outputs": []
    },
    {
      "cell_type": "code",
      "source": [],
      "metadata": {
        "id": "DUUsnY-swfb9"
      },
      "execution_count": null,
      "outputs": []
    },
    {
      "cell_type": "code",
      "source": [],
      "metadata": {
        "id": "SqoNSq9Ewffg"
      },
      "execution_count": null,
      "outputs": []
    }
  ]
}