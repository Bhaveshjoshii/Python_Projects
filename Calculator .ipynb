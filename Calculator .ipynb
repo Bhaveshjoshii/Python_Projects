{
 "cells": [
  {
   "cell_type": "code",
   "execution_count": 1,
   "id": "9406a1a7",
   "metadata": {},
   "outputs": [
    {
     "name": "stdout",
     "output_type": "stream",
     "text": [
      "Enter first value:5\n",
      "Enter second value:5\n",
      "Enter Your Preferance :sum\n",
      "Sum of Two Numbers =  10.0\n"
     ]
    }
   ],
   "source": [
    "a=float(input(\"Enter first value:\" ))\n",
    "b=float(input(\"Enter second value:\" ))\n",
    "Calculate = input(\"Enter Your Preferance :\" )\n",
    "\n",
    "if Calculate == \"sum\" or Calculate ==\"SUM\" or Calculate==\"Sum\" or Calculate == \"+\":\n",
    "    print(\"Sum of Two Numbers = \", a+b)\n",
    "elif Calculate == \"sub\" or Calculate ==\"SUB\" or Calculate==\"Sub\" or Calculate == \"-\":\n",
    "    print(\"Sub of Two Numbers = \", a-b)\n",
    "elif Calculate == \"multiply\" or Calculate ==\"MULTIPLY\" or Calculate==\"Multiply\" or Calculate == \"*\":\n",
    "    print(\"Multiply of Two Numbers = \", a*b)\n",
    "elif Calculate == \"divide\" or Calculate ==\"DIVIDE\" or Calculate==\"Divide\" or Calculate == \"/\":\n",
    "    print(\"Division of Two Number= \",a/b)\n",
    "else:\n",
    "    print(\"Please Enter Correct Preferance\")"
   ]
  },
  {
   "cell_type": "code",
   "execution_count": null,
   "id": "468d8c8a",
   "metadata": {},
   "outputs": [],
   "source": []
  }
 ],
 "metadata": {
  "kernelspec": {
   "display_name": "Python 3 (ipykernel)",
   "language": "python",
   "name": "python3"
  },
  "language_info": {
   "codemirror_mode": {
    "name": "ipython",
    "version": 3
   },
   "file_extension": ".py",
   "mimetype": "text/x-python",
   "name": "python",
   "nbconvert_exporter": "python",
   "pygments_lexer": "ipython3",
   "version": "3.11.3"
  }
 },
 "nbformat": 4,
 "nbformat_minor": 5
}
